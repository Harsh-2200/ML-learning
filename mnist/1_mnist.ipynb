{
  "nbformat": 4,
  "nbformat_minor": 0,
  "metadata": {
    "colab": {
      "name": "1_mnist.ipynb",
      "provenance": [],
      "collapsed_sections": []
    },
    "kernelspec": {
      "name": "python3",
      "display_name": "Python 3"
    },
    "language_info": {
      "name": "python"
    }
  },
  "cells": [
    {
      "cell_type": "code",
      "execution_count": 1,
      "metadata": {
        "colab": {
          "base_uri": "https://localhost:8080/",
          "height": 35
        },
        "id": "hQEHt_Oxcq1u",
        "outputId": "16e9e317-125c-447e-e769-b75a5846100f"
      },
      "outputs": [
        {
          "output_type": "execute_result",
          "data": {
            "text/plain": [
              "'2.8.2'"
            ],
            "application/vnd.google.colaboratory.intrinsic+json": {
              "type": "string"
            }
          },
          "metadata": {},
          "execution_count": 1
        }
      ],
      "source": [
        "import tensorflow as tf\n",
        "tf.__version__"
      ]
    },
    {
      "cell_type": "code",
      "source": [
        "mnist = tf.keras.datasets.mnist\n",
        "(x_train , y_train) , (x_test , y_test) = mnist.load_data()"
      ],
      "metadata": {
        "colab": {
          "base_uri": "https://localhost:8080/"
        },
        "id": "Iizs5ytJc_YU",
        "outputId": "e66955f7-80d5-4ac8-de13-46dc96c81e0e"
      },
      "execution_count": 2,
      "outputs": [
        {
          "output_type": "stream",
          "name": "stdout",
          "text": [
            "Downloading data from https://storage.googleapis.com/tensorflow/tf-keras-datasets/mnist.npz\n",
            "11493376/11490434 [==============================] - 0s 0us/step\n",
            "11501568/11490434 [==============================] - 0s 0us/step\n"
          ]
        }
      ]
    },
    {
      "cell_type": "code",
      "source": [
        "x_train , x_test = x_train/255.0 , x_test /255.0 "
      ],
      "metadata": {
        "id": "823aV-cbdhWS"
      },
      "execution_count": 3,
      "outputs": []
    },
    {
      "cell_type": "code",
      "source": [
        "model = tf.keras.models.Sequential([\n",
        "    tf.keras.layers.Flatten(input_shape = (28,28)),\n",
        "    tf.keras.layers.Dense(128 , activation= 'relu'),\n",
        "    tf.keras.layers.Dropout(0.2),\n",
        "    tf.keras.layers.Dense(10)\n",
        "])"
      ],
      "metadata": {
        "id": "xVq-tfIud6Zk"
      },
      "execution_count": 5,
      "outputs": []
    },
    {
      "cell_type": "code",
      "source": [
        "prediction = model(x_train[:1]).numpy()\n",
        "prediction"
      ],
      "metadata": {
        "colab": {
          "base_uri": "https://localhost:8080/"
        },
        "id": "CbaSreZkd8zR",
        "outputId": "8f27f118-3210-4b3b-c4ca-2a08df875780"
      },
      "execution_count": 7,
      "outputs": [
        {
          "output_type": "execute_result",
          "data": {
            "text/plain": [
              "array([[ 0.17244452,  0.737285  ,  0.03561604,  0.44634402,  0.3408723 ,\n",
              "         0.36192334,  0.18332417, -0.46351266,  0.12986074,  0.05007416]],\n",
              "      dtype=float32)"
            ]
          },
          "metadata": {},
          "execution_count": 7
        }
      ]
    },
    {
      "cell_type": "code",
      "source": [
        "tf.nn.softmax(prediction).numpy()"
      ],
      "metadata": {
        "colab": {
          "base_uri": "https://localhost:8080/"
        },
        "id": "JRDYqAn1d8wL",
        "outputId": "6740c648-f3b6-48a3-fea3-11955ed3056a"
      },
      "execution_count": 8,
      "outputs": [
        {
          "output_type": "execute_result",
          "data": {
            "text/plain": [
              "array([[0.09326679, 0.16407187, 0.08133981, 0.12265354, 0.1103759 ,\n",
              "        0.11272406, 0.09428704, 0.04937809, 0.08937851, 0.08252438]],\n",
              "      dtype=float32)"
            ]
          },
          "metadata": {},
          "execution_count": 8
        }
      ]
    },
    {
      "cell_type": "code",
      "source": [
        "loss_fn = tf.keras.losses.SparseCategoricalCrossentropy(from_logits = True)"
      ],
      "metadata": {
        "id": "VLdBZrUlZHyB"
      },
      "execution_count": 9,
      "outputs": []
    },
    {
      "cell_type": "code",
      "source": [
        "loss_fn(y_train[:1] , prediction).numpy()"
      ],
      "metadata": {
        "colab": {
          "base_uri": "https://localhost:8080/"
        },
        "id": "5DNTu9-ebQ8C",
        "outputId": "4d225d92-0369-4274-c59f-5f2767d23238"
      },
      "execution_count": 10,
      "outputs": [
        {
          "output_type": "execute_result",
          "data": {
            "text/plain": [
              "2.1828122"
            ]
          },
          "metadata": {},
          "execution_count": 10
        }
      ]
    },
    {
      "cell_type": "code",
      "source": [
        "model.compile(optimizer = 'adam' , loss= loss_fn , metrics = ['accuracy'])"
      ],
      "metadata": {
        "id": "RSr_ZpRpbR9g"
      },
      "execution_count": 12,
      "outputs": []
    },
    {
      "cell_type": "code",
      "source": [
        "model.fit(x_train , y_train , epochs = 5)"
      ],
      "metadata": {
        "colab": {
          "base_uri": "https://localhost:8080/"
        },
        "id": "Og1_AyOkbRu0",
        "outputId": "804faa2b-c40e-4c5e-8905-8262a72c73f0"
      },
      "execution_count": 13,
      "outputs": [
        {
          "output_type": "stream",
          "name": "stdout",
          "text": [
            "Epoch 1/5\n",
            "1875/1875 [==============================] - 6s 3ms/step - loss: 0.2932 - accuracy: 0.9153\n",
            "Epoch 2/5\n",
            "1875/1875 [==============================] - 7s 4ms/step - loss: 0.1440 - accuracy: 0.9578\n",
            "Epoch 3/5\n",
            "1875/1875 [==============================] - 7s 4ms/step - loss: 0.1072 - accuracy: 0.9668\n",
            "Epoch 4/5\n",
            "1875/1875 [==============================] - 6s 3ms/step - loss: 0.0885 - accuracy: 0.9724\n",
            "Epoch 5/5\n",
            "1875/1875 [==============================] - 7s 4ms/step - loss: 0.0758 - accuracy: 0.9769\n"
          ]
        },
        {
          "output_type": "execute_result",
          "data": {
            "text/plain": [
              "<keras.callbacks.History at 0x7f7cc308d090>"
            ]
          },
          "metadata": {},
          "execution_count": 13
        }
      ]
    },
    {
      "cell_type": "code",
      "source": [
        "model.evaluate(x_test , y_test , verbose = 2)"
      ],
      "metadata": {
        "colab": {
          "base_uri": "https://localhost:8080/"
        },
        "id": "r3NGLqQxbRUi",
        "outputId": "dfd00d2b-1224-4f42-ce17-d69482be3c77"
      },
      "execution_count": 15,
      "outputs": [
        {
          "output_type": "stream",
          "name": "stdout",
          "text": [
            "313/313 - 1s - loss: 0.0736 - accuracy: 0.9793 - 899ms/epoch - 3ms/step\n"
          ]
        },
        {
          "output_type": "execute_result",
          "data": {
            "text/plain": [
              "[0.07355741411447525, 0.9793000221252441]"
            ]
          },
          "metadata": {},
          "execution_count": 15
        }
      ]
    },
    {
      "cell_type": "code",
      "source": [
        "probability_model = tf.keras.Sequential([model, tf.keras.layers.Softmax()])"
      ],
      "metadata": {
        "id": "3B4g-kyqcIVO"
      },
      "execution_count": 16,
      "outputs": []
    },
    {
      "cell_type": "code",
      "source": [
        "probability_model(x_test[:5])"
      ],
      "metadata": {
        "colab": {
          "base_uri": "https://localhost:8080/"
        },
        "id": "zDD-yTOfcIDn",
        "outputId": "f9c2062a-8bfb-451d-f65d-8cb6c18a60cf"
      },
      "execution_count": 17,
      "outputs": [
        {
          "output_type": "execute_result",
          "data": {
            "text/plain": [
              "<tf.Tensor: shape=(5, 10), dtype=float32, numpy=\n",
              "array([[7.77921016e-08, 1.20216356e-07, 1.75217360e-06, 2.33360974e-04,\n",
              "        3.04126273e-11, 8.31819125e-06, 3.33885593e-11, 9.99754488e-01,\n",
              "        1.26673524e-06, 6.03181775e-07],\n",
              "       [4.35923333e-08, 6.28403868e-05, 9.99933958e-01, 2.78746006e-06,\n",
              "        1.32654804e-15, 1.21700864e-07, 1.23044813e-07, 1.06259207e-12,\n",
              "        1.04536475e-07, 1.36691073e-13],\n",
              "       [4.60230680e-08, 9.98903871e-01, 4.35573384e-05, 6.06303593e-06,\n",
              "        9.11332972e-05, 5.55541965e-06, 2.18849982e-06, 9.01969324e-04,\n",
              "        4.15932336e-05, 3.99385863e-06],\n",
              "       [9.99662042e-01, 8.45783390e-08, 1.32546658e-04, 5.34164258e-07,\n",
              "        1.16842882e-08, 5.41666195e-05, 1.62502183e-05, 1.30940112e-04,\n",
              "        3.15470206e-09, 3.35900108e-06],\n",
              "       [3.73236726e-05, 6.56302612e-09, 1.62978962e-04, 4.16220416e-07,\n",
              "        9.72221613e-01, 3.51548260e-05, 1.29630398e-05, 7.03088474e-04,\n",
              "        2.97568295e-05, 2.67968159e-02]], dtype=float32)>"
            ]
          },
          "metadata": {},
          "execution_count": 17
        }
      ]
    }
  ]
}